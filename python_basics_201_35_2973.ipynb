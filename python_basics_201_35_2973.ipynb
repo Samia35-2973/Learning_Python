{
  "nbformat": 4,
  "nbformat_minor": 0,
  "metadata": {
    "colab": {
      "provenance": [],
      "authorship_tag": "ABX9TyOqNg8p/Pzp/NvDd6S4Bwnn",
      "include_colab_link": true
    },
    "kernelspec": {
      "name": "python3",
      "display_name": "Python 3"
    },
    "language_info": {
      "name": "python"
    }
  },
  "cells": [
    {
      "cell_type": "markdown",
      "metadata": {
        "id": "view-in-github",
        "colab_type": "text"
      },
      "source": [
        "<a href=\"https://colab.research.google.com/github/Samia35-2973/Learning_Python/blob/main/python_basics_201_35_2973.ipynb\" target=\"_parent\"><img src=\"https://colab.research.google.com/assets/colab-badge.svg\" alt=\"Open In Colab\"/></a>"
      ]
    },
    {
      "cell_type": "code",
      "source": [
        "#When you use end=' ' in a print() statement, it tells Python to use a space character as the ending character instead of a newline character. \n",
        "#print(\"Tisha says: \" + end=' ') cant be used because of concatenation\n",
        "print(\"Tisha says:\" , end=' ')\n",
        "print('\"Hello\"')\n"
      ],
      "metadata": {
        "colab": {
          "base_uri": "https://localhost:8080/"
        },
        "id": "DTaTwrTHJbS_",
        "outputId": "dbb3c618-42f3-4261-b5b8-91af08b7b7cc"
      },
      "execution_count": 29,
      "outputs": [
        {
          "output_type": "stream",
          "name": "stdout",
          "text": [
            "Tisha says: \"Hello\"\n"
          ]
        }
      ]
    },
    {
      "cell_type": "code",
      "execution_count": null,
      "metadata": {
        "colab": {
          "base_uri": "https://localhost:8080/"
        },
        "id": "KpswKX7IxC2s",
        "outputId": "b6c2e79a-21ba-4797-c8e6-005b9d05947b"
      },
      "outputs": [
        {
          "output_type": "stream",
          "name": "stdout",
          "text": [
            "*\n",
            "*\n",
            "*\n",
            "*\n",
            "*\n",
            "*\n",
            "*\n",
            "*\n",
            "*\n",
            "*\n",
            "*\n",
            "*\n",
            "*\n",
            "*\n",
            "*\n",
            "*\n",
            "*\n",
            "*\n",
            "*\n",
            "*\n"
          ]
        }
      ],
      "source": [
        "for i in range(20):\n",
        "   print('*')"
      ]
    },
    {
      "cell_type": "code",
      "source": [
        "print('*' * 20)\n"
      ],
      "metadata": {
        "colab": {
          "base_uri": "https://localhost:8080/"
        },
        "id": "5xN6-lkzxnnN",
        "outputId": "5450fc11-00f2-4956-d961-f3fe31421fdc"
      },
      "execution_count": null,
      "outputs": [
        {
          "output_type": "stream",
          "name": "stdout",
          "text": [
            "********************\n"
          ]
        }
      ]
    },
    {
      "cell_type": "code",
      "source": [
        "x = int(input(\"Enter Value: \"))\n",
        "print(\"The Value is: \" + str(x))\n",
        "print(x)\n"
      ],
      "metadata": {
        "colab": {
          "base_uri": "https://localhost:8080/"
        },
        "id": "BfwYXFES5iiw",
        "outputId": "a3a1ffa9-9a71-4377-cc75-af3d44ef6c19"
      },
      "execution_count": null,
      "outputs": [
        {
          "output_type": "stream",
          "name": "stdout",
          "text": [
            "Enter Value: 222222222222222222222222222222222222222222222222222222\n",
            "The Value is: 222222222222222222222222222222222222222222222222222222\n",
            "222222222222222222222222222222222222222222222222222222\n"
          ]
        }
      ]
    },
    {
      "cell_type": "code",
      "source": [
        "x = float(input(\"Enter a floating number: \"))\n",
        "print(\"The value is: \" + str(x))\n",
        "print(f\"The Value is: {x}\")"
      ],
      "metadata": {
        "colab": {
          "base_uri": "https://localhost:8080/"
        },
        "id": "ZhXJRrXH514Z",
        "outputId": "3f1ff240-a02c-432c-a742-31c9ca38b18c"
      },
      "execution_count": null,
      "outputs": [
        {
          "output_type": "stream",
          "name": "stdout",
          "text": [
            "Enter a floating number: 34.9\n",
            "The value is: 34.9\n",
            "The Value is: 34.9\n"
          ]
        }
      ]
    },
    {
      "cell_type": "code",
      "source": [
        "x = \"she's annoyed!\"\n",
        "y = 'she says, \"I am fine\"'\n",
        "print(x+y)"
      ],
      "metadata": {
        "colab": {
          "base_uri": "https://localhost:8080/"
        },
        "id": "9DhxOH-r58wo",
        "outputId": "44037445-a3d6-4bb8-aa35-2481a3c4d125"
      },
      "execution_count": null,
      "outputs": [
        {
          "output_type": "stream",
          "name": "stdout",
          "text": [
            "she's annoyed!she says, \"I am fine\"\n"
          ]
        }
      ]
    },
    {
      "cell_type": "code",
      "source": [
        "x, y, z = 6, 7, 8\n",
        "print(f\"{x}, {y}, {z}\")\n",
        "\n",
        "a = b = c = 90\n",
        "print(str(a)+\", \" + str(b) + \", \" + str(c))"
      ],
      "metadata": {
        "colab": {
          "base_uri": "https://localhost:8080/"
        },
        "id": "fB2sKDa--O7K",
        "outputId": "34a85d21-3d34-4003-ebb4-fedace45d75a"
      },
      "execution_count": null,
      "outputs": [
        {
          "output_type": "stream",
          "name": "stdout",
          "text": [
            "6, 7, 8\n",
            "90, 90, 90\n"
          ]
        }
      ]
    },
    {
      "cell_type": "code",
      "source": [
        "#Unpacking\n",
        "\n",
        "ages = [45, 33, 21]\n",
        "x, y, z = ages\n",
        "print(f\"{x}, {y}, {z}\")"
      ],
      "metadata": {
        "colab": {
          "base_uri": "https://localhost:8080/"
        },
        "id": "DlJUegMo-o0n",
        "outputId": "0394f5c3-da62-4215-f42b-73ced2d5bfa0"
      },
      "execution_count": null,
      "outputs": [
        {
          "output_type": "stream",
          "name": "stdout",
          "text": [
            "45, 33, 21\n"
          ]
        }
      ]
    },
    {
      "cell_type": "code",
      "source": [
        "#multiline string\n",
        "x = \"\"\"hello\n",
        "    konnichiwa\n",
        "nihao\n",
        "hola\"\"\"\n",
        "print(x)\n",
        "\n",
        "#string are arrays. To access from first index starts from 0. To access reverse index starts from -1\n",
        "print(x[0])\n",
        "print(x[1])\n",
        "print(x[-1])\n",
        "print(x[-2])\n",
        "\n",
        "#to get length of string\n",
        "n = len(x)\n",
        "print(\"Length of the string: \" + str(n))\n",
        "\n",
        "#check if substring is present or not present\n",
        "print(\"hol\" in x)\n",
        "print(\"bol\" not in x)\n",
        "\n",
        "#slicing b[x:y] here x:y means a substring from x to y index. but here the substring is taken from x to y-1 always.\n",
        "s = x[3:21]\n",
        "print(\"Sliced String 1: \" + s)\n",
        "\n",
        "#slicing b[:y] here :y means a substring from start to y index\n",
        "s = x[:21]\n",
        "print(\"Sliced String 2: \" + s)\n",
        "\n",
        "#slicing b[x:] here x: means a substring from x to end index\n",
        "s = x[3:]\n",
        "print(\"Sliced String 3: \" + s)\n",
        "\n",
        "s = x[1:-1] #excluding first and last index\n",
        "print(\"Sliced String 4: \" + s)\n",
        "\n",
        "s = \"Learn Python Programming\"\n",
        "#find method\n",
        "n = s.find(\"Python\")\n",
        "print(\"Python word exists at index: \" + str(n+1))\n",
        "\n",
        "s = s[6:-11]\n",
        "print(\"Mid String: \" + s)\n",
        "\n",
        "#string converted to upper case\n",
        "print(s.upper())\n",
        "\n",
        "#string converted to lower case\n",
        "print(s.lower())\n",
        "\n",
        "#Concatenation\n",
        "s = \" \" + s + \" \"\n",
        "print(\"Actual Text: \" + s)\n",
        "\n",
        "#Removing whitespace: spaces before or after actual text should be removed\n",
        "s = s.strip()\n",
        "print(\"After Removing Whitespace: \" + s)\n",
        "\n",
        "#replacing\n",
        "s = \"python\"\n",
        "s = s.replace(\"o\", \"p\")\n",
        "print(\"Replaced String: \" + s)\n",
        "s = s.replace(\"p\", \"x\")#every occurance of P willl be replaced\n",
        "print(\"Replaced String: \" + s)\n",
        "s = \"pythonpython pythons\"\n",
        "s = s.replace(\"python\", \"x\")\n",
        "print(\"Replaced String: \" + s)\n",
        "\n",
        "#spliting splits the whole string according to the instance provided and returns a list\n",
        "s = s.split(\" \")\n",
        "print(\"Splitted List: \" + str(s)) #S's type is list so covert to string was required\n",
        "\n",
        "#Format: Method takes the passed arguments, formats them, and places them in the string where the placeholders {} are\n",
        "n = 3\n",
        "s = \"There are {} ages\"\n",
        "s = s.format(n)\n",
        "print(s)\n",
        "#Can take unlimitate arguments in method seperated by commas\n",
        "x, y, z = 20, 30, 40\n",
        "s = s + \" There are : {}, {}, {}\" #if we pass 3 then 3 placeholders\n",
        "s = s.format(x, y, z)\n",
        "print(s)\n",
        "#use index numbers {0} to be sure the arguments are placed in the correct placeholders\n",
        "s = \"There are {3} ages. There are {0}, {2}, {1}\"\n",
        "s = s.format(x, z, y, n)\n",
        "print(s)\n",
        "#Another Way of formatting\n",
        "teach_name = \"Nuruzzaman Faruqui\"\n",
        "teach_init = \"NF\"\n",
        "#Now print \"teach_name (teach_init) teaches AI\"\n",
        "message = f\"{teach_name} ({teach_init}) teaches AI\"\n",
        "print(message)\n",
        "\n",
        "#Escape Characters: Insert characters which are illegal use backslash \\ followed by the character you want to insert. they are same as c++\n",
        "s = \"Tisha says, \\\"Ohayo\\\"\"\n",
        "print(s)\n",
        "\n",
        "#https://www.w3schools.com/python/python_strings_methods.asp"
      ],
      "metadata": {
        "colab": {
          "base_uri": "https://localhost:8080/"
        },
        "id": "gMRsLRnTA8l6",
        "outputId": "a20d6d16-4227-47ff-cbc3-268811b1e35a"
      },
      "execution_count": 80,
      "outputs": [
        {
          "output_type": "stream",
          "name": "stdout",
          "text": [
            "hello\n",
            "    konnichiwa\n",
            "nihao\n",
            "hola\n",
            "h\n",
            "e\n",
            "a\n",
            "l\n",
            "Length of the string: 31\n",
            "True\n",
            "True\n",
            "Sliced String 1: lo\n",
            "    konnichiwa\n",
            "\n",
            "Sliced String 2: hello\n",
            "    konnichiwa\n",
            "\n",
            "Sliced String 3: lo\n",
            "    konnichiwa\n",
            "nihao\n",
            "hola\n",
            "Sliced String 4: ello\n",
            "    konnichiwa\n",
            "nihao\n",
            "hol\n",
            "Python word exists at index: 7\n",
            "Mid String: Python \n",
            "PYTHON \n",
            "python \n",
            "Actual Text:  Python  \n",
            "After Removing Whitespace: Python\n",
            "Replaced String: pythpn\n",
            "Replaced String: xythxn\n",
            "Replaced String: xx xs\n",
            "Splitted List: ['xx', 'xs']\n",
            "There are 3 ages\n",
            "There are 3 ages There are : 20, 30, 40\n",
            "There are 3 ages. There are 20, 30, 40\n",
            "Nuruzzaman Faruqui (NF) teaches AI\n",
            "Tisha says, \"Ohayo\"\n"
          ]
        }
      ]
    },
    {
      "cell_type": "code",
      "source": [
        "#boolean\n",
        "ok = True\n",
        "ok = False\n",
        "#bool() returns truth value of anything. If it contains any contents it returns true else false\n"
      ],
      "metadata": {
        "id": "KjtOsdeZRo0y"
      },
      "execution_count": null,
      "outputs": []
    },
    {
      "cell_type": "code",
      "source": [
        "#Operators\n",
        "#https://www.w3schools.com/python/python_operators.asp"
      ],
      "metadata": {
        "id": "ptyIBSEgS5i6"
      },
      "execution_count": null,
      "outputs": []
    },
    {
      "cell_type": "code",
      "source": [
        "#List\n",
        "#Multiple items seperated by commas in square braces\n",
        "#Defined order, changeable, and allow duplicate values; Starting index 0, reverse index -1\n",
        "thislist = [\"banana\", \"apple\", \"cherry\"]\n",
        "print(thislist)\n",
        "\n",
        "#To get length of list\n",
        "print(len(thislist))\n",
        "\n",
        "#can contain different type values in same list\n",
        "s = [\"banana\", \"apple\", \"cherry\", True, 44, 5.69]\n",
        "print(s)\n",
        "\n",
        "#Accessing is same as string\n",
        "\n",
        "#Changine\n",
        "#we can change by index or range simply assigining\n",
        "#If we change more than the specified range, the remaining values will be added on the range\n",
        "s[1:2] = [\"goru\", \"chagol\"]\n",
        "print(s)\n",
        "#If we change less than the specified range, the range will be just the changed value and rest of the values will be removed\n",
        "s[1:3] = [\"vera\"]\n",
        "print(s)\n",
        "\n",
        "#Inserting in specific index\n",
        "s.insert(2, \"kaua\")\n",
        "print(s)\n",
        "\n",
        "#Adding item at the end of the list\n",
        "s.append(5)\n",
        "print(s)\n",
        "\n",
        "#Adding all values from a list to another list\n",
        "temp = [\"yyue\", \"gu\", 98]\n",
        "s.extend(temp)# we can extend anything other than list.\n",
        "print(s)\n",
        "\n",
        "#Removing\n",
        "#remove item\n",
        "s.remove(\"kaua\")\n",
        "print(s)\n",
        "#remove indexed value\n",
        "s.pop(1)\n",
        "print(s)\n",
        "s.pop()#remove last element\n",
        "print(s)\n",
        "\n",
        "#emptying list\n",
        "#s.clear()\n",
        "#print(s)\n",
        "\n",
        "#Deleting list\n",
        "#del s\n",
        "#print(s) this won't work since it is entirely deleted\n",
        "\n",
        "#loop lists\n",
        "#looping through items\n",
        "for i in s:\n",
        "  print(i, end=' ')\n",
        "print()\n",
        "#looping through index\n",
        "for i in range(len(s)):\n",
        "  print(s[i], end=' ')\n",
        "print()\n",
        "#while loop\n",
        "i = 0\n",
        "n = len(s)\n",
        "while i < n:\n",
        "  print(s[i], end=' ')\n",
        "  i+=1\n",
        "print()\n",
        "\n",
        "#list comprehension\n",
        "#newlist = [expression for item in iterable if condition == True]\n",
        "s = [\"goru\", \"chagol\", \"vera\", \"kaua\"]\n",
        "newl = [x for x in s if \"a\" in x]\n",
        "print(newl)\n",
        "\n",
        "newl = [x.upper() for x in s if \"a\" in x]\n",
        "print(newl)\n",
        "\n",
        "#copying x1 = x2 will cause any change in x2 will change x1 as well\n",
        "ll = newl.copy()\n",
        "print(ll)\n",
        "\n",
        "#join or concatenate lists\n",
        "# + as string, extend or append one by one\n",
        "\n",
        "#https://www.w3schools.com/python/python_lists_methods.asp"
      ],
      "metadata": {
        "colab": {
          "base_uri": "https://localhost:8080/"
        },
        "id": "-l0UJPnYTNoc",
        "outputId": "3f332329-575a-4bf4-9e41-55d108b7f734"
      },
      "execution_count": 63,
      "outputs": [
        {
          "output_type": "stream",
          "name": "stdout",
          "text": [
            "['banana', 'apple', 'cherry']\n",
            "3\n",
            "['banana', 'apple', 'cherry', True, 44, 5.69]\n",
            "['banana', 'goru', 'chagol', 'cherry', True, 44, 5.69]\n",
            "['banana', 'vera', 'cherry', True, 44, 5.69]\n",
            "['banana', 'vera', 'kaua', 'cherry', True, 44, 5.69]\n",
            "['banana', 'vera', 'kaua', 'cherry', True, 44, 5.69, 5]\n",
            "['banana', 'vera', 'kaua', 'cherry', True, 44, 5.69, 5, 'yyue', 'gu', 98]\n",
            "['banana', 'vera', 'cherry', True, 44, 5.69, 5, 'yyue', 'gu', 98]\n",
            "['banana', 'cherry', True, 44, 5.69, 5, 'yyue', 'gu', 98]\n",
            "['banana', 'cherry', True, 44, 5.69, 5, 'yyue', 'gu']\n",
            "banana cherry True 44 5.69 5 yyue gu \n",
            "banana cherry True 44 5.69 5 yyue gu \n",
            "banana cherry True 44 5.69 5 yyue gu \n",
            "['chagol', 'vera', 'kaua']\n",
            "['CHAGOL', 'VERA', 'KAUA']\n",
            "['CHAGOL', 'VERA', 'KAUA']\n"
          ]
        }
      ]
    },
    {
      "cell_type": "code",
      "source": [
        "#Sorting\n",
        "#Ascending\n",
        "s = [\"orange\", \"mango\", \"kiwi\", \"pineapple\", \"banana\"]\n",
        "s.sort()\n",
        "print(s)\n",
        "#Descending\n",
        "s.sort(reverse = True)\n",
        "print(s)\n",
        "#custom sort -> key = anyfunction, here function will return the value\n",
        "#Sort the list based on how close the number is to 50\n",
        "def cmp(n):\n",
        "  return abs(n-50)\n",
        "\n",
        "s = [100, 50, 65, 82, 23]\n",
        "s.sort(key = cmp)\n",
        "print(s)\n",
        "\n",
        "#sort is sensitive, resulting in all capital letters being sorted before lower case letters:\n",
        "s = [\"banana\", \"Orange\", \"Kiwi\", \"cherry\"]\n",
        "s.sort()\n",
        "print(s)\n",
        "\n",
        "#to solve the problem\n",
        "s.sort(key = str.lower)\n",
        "print(s)\n",
        "\n",
        "#reverse\n",
        "s.reverse()\n",
        "print(s)"
      ],
      "metadata": {
        "colab": {
          "base_uri": "https://localhost:8080/"
        },
        "id": "Kf9X_FP43q0a",
        "outputId": "ca3700d7-2746-45ef-86c2-3cdcee886c9c"
      },
      "execution_count": 62,
      "outputs": [
        {
          "output_type": "stream",
          "name": "stdout",
          "text": [
            "['banana', 'kiwi', 'mango', 'orange', 'pineapple']\n",
            "['pineapple', 'orange', 'mango', 'kiwi', 'banana']\n",
            "[50, 65, 23, 82, 100]\n",
            "['Kiwi', 'Orange', 'banana', 'cherry']\n",
            "['banana', 'cherry', 'Kiwi', 'Orange']\n",
            "['Orange', 'Kiwi', 'cherry', 'banana']\n"
          ]
        }
      ]
    },
    {
      "cell_type": "code",
      "source": [
        "#Tuple\n",
        "#multiple items in single variable; round braces; duplicate values; Initial order; Same indexing process; Unchangeable(no add, remove, modify)\n",
        "s = (\"ami\")#not tuple\n",
        "print(s)\n",
        "\n",
        "s = (\"ami\",)#Tuple valid\n",
        "print(s)\n",
        "\n",
        "s = (40, 56, 90)\n",
        "print(s)\n",
        "\n",
        "#can be of different datatype\n",
        "#same accessing as list\n",
        "\n",
        "#tuple can be changed to List for add, modification, removing and changed back to tuple\n",
        "s = list(s)\n",
        "s.append(50)\n",
        "s = tuple(s)\n",
        "print(s)\n",
        "\n",
        "#can be concatenated normally\n",
        "\n",
        "#unpacking\n",
        "#The number of variables must match the number of values in the tuple,\n",
        "# if not, you must use an asterisk to collect the remaining values as a list.\n",
        "\n",
        "fruits = (\"apple\", \"banana\", \"cherry\", \"strawberry\", \"raspberry\")\n",
        "(green, yellow, *red) = fruits\n",
        "print(green)\n",
        "print(yellow)\n",
        "print(red)\n",
        "\n",
        "#Muliply tuple 3 times\n",
        "mytuple = fruits * 3\n",
        "print(mytuple)"
      ],
      "metadata": {
        "colab": {
          "base_uri": "https://localhost:8080/"
        },
        "id": "Hk3BqDRL7xmS",
        "outputId": "768905ac-8aad-4e6e-ec17-86b2e6b699b0"
      },
      "execution_count": 70,
      "outputs": [
        {
          "output_type": "stream",
          "name": "stdout",
          "text": [
            "ami\n",
            "('ami',)\n",
            "(40, 56, 90)\n",
            "(40, 56, 90, 50)\n",
            "apple\n",
            "banana\n",
            "['cherry', 'strawberry', 'raspberry']\n",
            "('apple', 'banana', 'cherry', 'strawberry', 'raspberry', 'apple', 'banana', 'cherry', 'strawberry', 'raspberry', 'apple', 'banana', 'cherry', 'strawberry', 'raspberry')\n"
          ]
        }
      ]
    },
    {
      "cell_type": "code",
      "source": [
        "#set\n",
        "#multi items single var; curly braces; Unchangeable but add remove allowed; Unordered; Unique Value; Differenrt types \n",
        "#True and 1 is treated same\n",
        "st = {1, True, \"jjnf\", 56}\n",
        "print(st)\n",
        "\n",
        "#Access\n",
        "#You cannot access items in a set by referring to an index or a key.\n",
        "#iterate through items only\n",
        "\n",
        "#add\n",
        "st.add(2)\n",
        "print(st)\n",
        "\n",
        "ust = {4,5}\n",
        "st.update(ust)#can be taken lists too\n",
        "print(st)\n",
        "\n",
        "#remove\n",
        "st.remove(5)\n",
        "print(st)\n",
        "\n",
        "#discard if the removed item may not exist\n",
        "st.discard(6)\n",
        "print(st)\n",
        "\n",
        "#https://www.w3schools.com/python/python_sets_join.asp\n",
        "\n",
        "#https://www.w3schools.com/python/python_sets_methods.asp"
      ],
      "metadata": {
        "colab": {
          "base_uri": "https://localhost:8080/"
        },
        "id": "SRirMasEB_fT",
        "outputId": "ddbbbece-2d65-445c-95ee-09f3221b8735"
      },
      "execution_count": 75,
      "outputs": [
        {
          "output_type": "stream",
          "name": "stdout",
          "text": [
            "{56, 1, 'jjnf'}\n",
            "{56, 1, 2, 'jjnf'}\n",
            "{1, 2, 'jjnf', 4, 5, 56}\n",
            "{1, 2, 'jjnf', 4, 56}\n",
            "{1, 2, 'jjnf', 4, 56}\n"
          ]
        }
      ]
    },
    {
      "cell_type": "code",
      "source": [
        "#loops\n",
        "#0-(n-1)\n",
        "n = 5\n",
        "for i in range(n):\n",
        "  print(i, end=' ')\n",
        "print()\n",
        "\n",
        "#2~(n-1)\n",
        "for i in range(2, n):\n",
        "  print(i, end=' ')\n",
        "print()\n",
        "\n",
        "#2~(n-1) incrementing 2\n",
        "for i in range(2, n, 2):\n",
        "  print(i, end=' ')\n",
        "else: print()#not be executed if interrupted by break\n",
        "\n",
        "\n"
      ],
      "metadata": {
        "colab": {
          "base_uri": "https://localhost:8080/"
        },
        "id": "Dqtn0RG1Pp2R",
        "outputId": "201fdb1b-70c7-4141-ca3b-cf81f41c637d"
      },
      "execution_count": 78,
      "outputs": [
        {
          "output_type": "stream",
          "name": "stdout",
          "text": [
            "0 1 2 3 4 \n",
            "2 3 4 \n",
            "2 4 \n"
          ]
        }
      ]
    },
    {
      "cell_type": "code",
      "source": [
        "#pass statement can be used if condition or loops are empty\n"
      ],
      "metadata": {
        "id": "Wb6MMFV7QhM3"
      },
      "execution_count": null,
      "outputs": []
    },
    {
      "cell_type": "code",
      "source": [
        "#Function Vs Method\n",
        "#Method is a functionality of an object which can only be accessed through object \n",
        "#Function can be accessed anywhere not in object\n"
      ],
      "metadata": {
        "id": "AqJuJXHhhaie"
      },
      "execution_count": null,
      "outputs": []
    },
    {
      "cell_type": "code",
      "source": [
        "#Math\n",
        "\n",
        "import math\n",
        "print(math.ceil(5.3))\n",
        "print(math.floor(5.5))\n",
        "print(round(5.5))\n",
        "print(math.factorial(25))\n"
      ],
      "metadata": {
        "colab": {
          "base_uri": "https://localhost:8080/"
        },
        "id": "qFkYwF6bjeb-",
        "outputId": "fde8dc39-014b-4663-a869-0efc3c178ac9"
      },
      "execution_count": 83,
      "outputs": [
        {
          "output_type": "stream",
          "name": "stdout",
          "text": [
            "6\n",
            "5\n",
            "6\n",
            "15511210043330985984000000\n"
          ]
        }
      ]
    }
  ]
}