{
  "nbformat": 4,
  "nbformat_minor": 0,
  "metadata": {
    "colab": {
      "provenance": [],
      "authorship_tag": "ABX9TyPfMzGkEEcW/v94bdQDS10j",
      "include_colab_link": true
    },
    "kernelspec": {
      "name": "python3",
      "display_name": "Python 3"
    },
    "language_info": {
      "name": "python"
    }
  },
  "cells": [
    {
      "cell_type": "markdown",
      "metadata": {
        "id": "view-in-github",
        "colab_type": "text"
      },
      "source": [
        "<a href=\"https://colab.research.google.com/github/Samia35-2973/Learning_Python/blob/main/python_basics_and_oop.ipynb\" target=\"_parent\"><img src=\"https://colab.research.google.com/assets/colab-badge.svg\" alt=\"Open In Colab\"/></a>"
      ]
    },
    {
      "cell_type": "code",
      "execution_count": 5,
      "metadata": {
        "colab": {
          "base_uri": "https://localhost:8080/"
        },
        "id": "B9yfTTRVlCr-",
        "outputId": "12847dba-698d-414b-cd06-51abd01f1368"
      },
      "outputs": [
        {
          "output_type": "stream",
          "name": "stdout",
          "text": [
            "5\n",
            "1 2 3 4 5\n",
            "1 2 3 4 5\n",
            "1 2 3 4 5\n",
            "1 2 3 4 5\n",
            "1 2 3 4 5\n",
            "[['1', '2', '3', '4', '5'], ['1', '2', '3', '4', '5'], ['1', '2', '3', '4', '5'], ['1', '2', '3', '4', '5'], ['1', '2', '3', '4', '5']]\n"
          ]
        }
      ],
      "source": [
        "n = int(input())\n",
        "a = []\n",
        "for i in range(n):\n",
        "  tmp = input().split()\n",
        "  temp = []\n",
        "  for j in range(n):\n",
        "    temp.append(int(tmp[j]))\n",
        "  a.append(tmp)\n",
        "print(a)"
      ]
    },
    {
      "cell_type": "code",
      "source": [
        "\n",
        "age = int(input())\n",
        "if age >= 20 and age < 25:\n",
        "  print(\"Studying\")\n",
        "elif age >= 25 and age < 45:\n",
        "  print(\"Working\")\n",
        "else:\n",
        "  print(\"Enjoying Life\")"
      ],
      "metadata": {
        "colab": {
          "base_uri": "https://localhost:8080/"
        },
        "id": "sIiyjfJACLVj",
        "outputId": "a8b896f4-82ec-4f48-f3c1-51e8862c099b"
      },
      "execution_count": 29,
      "outputs": [
        {
          "output_type": "stream",
          "name": "stdout",
          "text": [
            "25\n",
            "Working\n"
          ]
        }
      ]
    },
    {
      "cell_type": "code",
      "source": [
        "#Try except\n",
        "\n",
        "try:\n",
        "  x = int(input())\n",
        "  x += 5\n",
        "  y = int(input())\n",
        "  x /= y\n",
        "  print(x)\n",
        "except ValueError:\n",
        "  print(\"Invalid Input\")\n",
        "except ZeroDivisionError:\n",
        "  print(\"Can't be divided by 0\")"
      ],
      "metadata": {
        "colab": {
          "base_uri": "https://localhost:8080/"
        },
        "id": "QcA_GV1LqNYJ",
        "outputId": "7f614748-d4a8-4447-82e2-f87f4863a5e0"
      },
      "execution_count": 9,
      "outputs": [
        {
          "output_type": "stream",
          "name": "stdout",
          "text": [
            "5\n",
            "0\n",
            "Can't be divided by 0\n"
          ]
        }
      ]
    },
    {
      "cell_type": "code",
      "source": [
        "#function\n",
        "#return\n",
        "def f():\n",
        "  return 9\n",
        "\n",
        "print(f())\n",
        "\n",
        "#void\n",
        "def f():\n",
        "  print(8)\n",
        "\n",
        "f()\n",
        "\n",
        "#parameters\n",
        "def ff(n, x):\n",
        "  return x*n\n",
        "\n",
        "print(ff(4,5))\n",
        "\n",
        "#if arguments passing is unknown use * on argument to take as tuple\n",
        "def fff(n, *x):\n",
        "  return x*n\n",
        "print(fff(4,5,5))"
      ],
      "metadata": {
        "colab": {
          "base_uri": "https://localhost:8080/"
        },
        "id": "Fmr6ufNwsH0v",
        "outputId": "44774c8c-1c23-4e6e-9823-0f94c757920c"
      },
      "execution_count": 15,
      "outputs": [
        {
          "output_type": "stream",
          "name": "stdout",
          "text": [
            "9\n",
            "8\n",
            "20\n",
            "(5, 5, 5, 5, 5, 5, 5, 5)\n"
          ]
        }
      ]
    },
    {
      "cell_type": "code",
      "source": [
        "#Class is blueprint of a object starts with capital\n",
        "#__init__() is a constructor for constructing the properties of objects into class. It takes self parameter refers to the object\n",
        "#Self is a reference to the current instance of the class, and is used to access variables that belong to the class. we can call anything instead of self\n",
        "#__str__() returns how the properties will be shown as a string.\n",
        "#in methods always pass self\n",
        "\n",
        "class Car:\n",
        "  def __init__(self, door, sit):\n",
        "    self.door = door\n",
        "    self.sit = sit\n",
        "\n",
        "  def __str__(self):\n",
        "    return f\"{self.door}, {self.sit}\"\n",
        "torot = Car(5, 5)\n",
        "print(torot)\n",
        "\n",
        "\n",
        "#without those 2 functions\n",
        "\n",
        "class dummy:\n",
        "  def definition(self):\n",
        "    print(\"You know its a dummy\")\n",
        "\n",
        "gg = dummy()\n",
        "gg.definition()\n",
        "gg.brand = \"dummy Brand\"\n",
        "#We can take properties and parameters outside the class\n",
        "print(gg.brand)"
      ],
      "metadata": {
        "colab": {
          "base_uri": "https://localhost:8080/"
        },
        "id": "SUtLMRZ3vocu",
        "outputId": "73a7e11a-6fbc-4c1d-ba0a-7cf49226123b"
      },
      "execution_count": 27,
      "outputs": [
        {
          "output_type": "stream",
          "name": "stdout",
          "text": [
            "5, 5\n",
            "You know its a dummy\n",
            "dummy Brand\n"
          ]
        }
      ]
    },
    {
      "cell_type": "code",
      "source": [
        "#Inheritance\n",
        "#Parent class can be normal class\n",
        "\n",
        "#Person is a Parent Class\n",
        "class Person:\n",
        "  def __init__(self, name, age):\n",
        "    self.name = name\n",
        "    self.age = age\n",
        "  def show_info(self):\n",
        "    print(f\"Name: {self.name}\\nAge: {self.age}\")\n",
        "\n",
        "#Student is a person\n",
        "class Student(Person):\n",
        "  pass#if no properties\n",
        "\n",
        "#Teacher is a person\n",
        "class Teacher(Person):\n",
        "  def __init__(self, name, age, designation):\n",
        "    #to keep person inheritance\n",
        "    Person.__init__(self, name, age)\n",
        "    self.designation = designation\n",
        "\n",
        "  def show_designation(self):\n",
        "    print(\"Designation: \" + self.designation)\n",
        "\n",
        "tisha = Student(\"Tisha\", 21)\n",
        "faruqui = Teacher(\"Faruqui\", 34, \"AT\")\n",
        "tisha.show_info()\n",
        "faruqui.show_info()\n",
        "faruqui.show_designation()\n",
        "faruqui.var = \"JU\"\n",
        "print(faruqui.var)"
      ],
      "metadata": {
        "colab": {
          "base_uri": "https://localhost:8080/"
        },
        "id": "N3UIooV_zngr",
        "outputId": "0b23e9e0-2863-4ab9-86c0-49b92ee58033"
      },
      "execution_count": 26,
      "outputs": [
        {
          "output_type": "stream",
          "name": "stdout",
          "text": [
            "Name: Tisha\n",
            "Age: 21\n",
            "Name: Faruqui\n",
            "Age: 34\n",
            "Designation: AT\n",
            "JU\n"
          ]
        }
      ]
    }
  ]
}